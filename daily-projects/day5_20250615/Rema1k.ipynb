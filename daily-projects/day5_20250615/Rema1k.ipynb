{
 "cells": [
  {
   "cell_type": "markdown",
   "id": "af3a67b5-9e1d-4b88-9e80-3d40273fdd38",
   "metadata": {},
   "source": [
    "# Day 5 - Webscraping\n",
    "\n",
    "Today the goal will be to scrape Rema1000 locations around the country."
   ]
  },
  {
   "cell_type": "markdown",
   "id": "3120cbbf-1117-4bf6-861d-38c53bc2a0b6",
   "metadata": {},
   "source": [
    "From the Rema1000 website we can see that the div class responsible for the element listing all Danish stores as a `div` with:\n",
    "`\n",
    "class=\"grid aspect-square h-auto auto-rows-min grid-cols-1 divide-y overflow-y-auto overflow-x-hidden lg:aspect-auto lg:h-[504px]\"\n",
    "`"
   ]
  },
  {
   "attachments": {},
   "cell_type": "markdown",
   "id": "718307ab-bb2d-487a-a81e-9594445d69ba",
   "metadata": {},
   "source": [
    "<div>\n",
    "<img src=\"pictures/stores.png\" width=\"1000\"/>\n",
    "</div>\n"
   ]
  },
  {
   "cell_type": "markdown",
   "id": "4b510ea6-cc85-4186-8d4d-dd67821c0bd8",
   "metadata": {},
   "source": [
    "Second we can see that this \"root\" div has \"child\" divs for each store with the element being references as `id=\"store-list__item-329\"`"
   ]
  },
  {
   "cell_type": "markdown",
   "id": "622ad232-ef13-4806-aa01-08fc171c2b2f",
   "metadata": {},
   "source": [
    "<div>\n",
    "<img src=\"pictures/address.png\" width=\"1000\"/>\n",
    "</div>\n"
   ]
  },
  {
   "cell_type": "markdown",
   "id": "833c0d9b-7baa-43e8-b25c-f5efe1e4865c",
   "metadata": {},
   "source": [
    "Above, we can then see that each indiviual store element has a `h2` header (`class=\"text-xl font-bold\"`) and an `address` (`class=\"text-base font-medium not-italic\"`) element for storing the name of the store and it's address.\n",
    "\n",
    "With this in place we should be able to scrape all stores from the Rema1000 website and store them.\n"
   ]
  },
  {
   "cell_type": "code",
   "execution_count": 29,
   "id": "2ac9dda4-ae7c-44d2-9fc7-ab0d7e9793cd",
   "metadata": {},
   "outputs": [],
   "source": [
    "# Now lets use Beautifulsoup to scrape the site\n",
    "from bs4 import BeautifulSoup\n",
    "import requests\n",
    "import pandas as pd"
   ]
  },
  {
   "cell_type": "code",
   "execution_count": 5,
   "id": "a7ff8995-ce89-42ba-a611-2aa6bc6aa83d",
   "metadata": {},
   "outputs": [],
   "source": [
    "# base information\n",
    "URL = \"https://rema1000.dk/find-butik-og-abningstider\"\n",
    "page = requests.get(URL)"
   ]
  },
  {
   "cell_type": "code",
   "execution_count": 41,
   "id": "bff4b48d-eac4-4f62-80e4-1c30411f5e3b",
   "metadata": {},
   "outputs": [
    {
     "data": {
      "text/plain": [
       "<Response [200]>"
      ]
     },
     "execution_count": 41,
     "metadata": {},
     "output_type": "execute_result"
    }
   ],
   "source": [
    "# Check if we are retrieving a response from the site\n",
    "page"
   ]
  },
  {
   "cell_type": "markdown",
   "id": "1f9e12cd-8c44-4d7e-b8b8-7416d887d177",
   "metadata": {},
   "source": [
    "It works, now lets retrieve the store objects"
   ]
  },
  {
   "cell_type": "code",
   "execution_count": 37,
   "id": "350a8ccc-ace2-4fd3-853a-502265cb8dc0",
   "metadata": {},
   "outputs": [
    {
     "data": {
      "text/html": [
       "<div>\n",
       "<style scoped>\n",
       "    .dataframe tbody tr th:only-of-type {\n",
       "        vertical-align: middle;\n",
       "    }\n",
       "\n",
       "    .dataframe tbody tr th {\n",
       "        vertical-align: top;\n",
       "    }\n",
       "\n",
       "    .dataframe thead th {\n",
       "        text-align: right;\n",
       "    }\n",
       "</style>\n",
       "<table border=\"1\" class=\"dataframe\">\n",
       "  <thead>\n",
       "    <tr style=\"text-align: right;\">\n",
       "      <th></th>\n",
       "      <th>name</th>\n",
       "      <th>address</th>\n",
       "    </tr>\n",
       "  </thead>\n",
       "  <tbody>\n",
       "    <tr>\n",
       "      <th>0</th>\n",
       "      <td>Aabenraa, Cimbria Parken</td>\n",
       "      <td>Reberbanen 7 st., Cimbria Parken, 6200 Aabenraa</td>\n",
       "    </tr>\n",
       "    <tr>\n",
       "      <th>1</th>\n",
       "      <td>Aabenraa, Nyløkke</td>\n",
       "      <td>Nyløkke 3, 6200 Aabenraa</td>\n",
       "    </tr>\n",
       "    <tr>\n",
       "      <th>2</th>\n",
       "      <td>Aabenraa, Rugkobbel</td>\n",
       "      <td>Farversmøllevej 2-4, Rugkobbelcentret, 6200 Aa...</td>\n",
       "    </tr>\n",
       "    <tr>\n",
       "      <th>3</th>\n",
       "      <td>Aabybro</td>\n",
       "      <td>Aabybro Centret 2 C, 9440 Aabybro</td>\n",
       "    </tr>\n",
       "    <tr>\n",
       "      <th>4</th>\n",
       "      <td>Aalborg C, Budolfi Plads</td>\n",
       "      <td>Vingårdsgade 6, 9000 Aalborg</td>\n",
       "    </tr>\n",
       "    <tr>\n",
       "      <th>...</th>\n",
       "      <td>...</td>\n",
       "      <td>...</td>\n",
       "    </tr>\n",
       "    <tr>\n",
       "      <th>425</th>\n",
       "      <td>Åbyhøj</td>\n",
       "      <td>Silkeborgvej 261, 8230 Åbyhøj</td>\n",
       "    </tr>\n",
       "    <tr>\n",
       "      <th>426</th>\n",
       "      <td>Ålbæk</td>\n",
       "      <td>Søndre Havnevej 4, 9982 Ålbæk</td>\n",
       "    </tr>\n",
       "    <tr>\n",
       "      <th>427</th>\n",
       "      <td>Årslev</td>\n",
       "      <td>Overvejen 79, 5792 Årslev</td>\n",
       "    </tr>\n",
       "    <tr>\n",
       "      <th>428</th>\n",
       "      <td>Ølgod</td>\n",
       "      <td>Østerbro 24, 6870 Ølgod</td>\n",
       "    </tr>\n",
       "    <tr>\n",
       "      <th>429</th>\n",
       "      <td>Ølstykke</td>\n",
       "      <td>Rådhus Allé 22, 3650 Ølstykke</td>\n",
       "    </tr>\n",
       "  </tbody>\n",
       "</table>\n",
       "<p>430 rows × 2 columns</p>\n",
       "</div>"
      ],
      "text/plain": [
       "                         name  \\\n",
       "0    Aabenraa, Cimbria Parken   \n",
       "1           Aabenraa, Nyløkke   \n",
       "2         Aabenraa, Rugkobbel   \n",
       "3                     Aabybro   \n",
       "4    Aalborg C, Budolfi Plads   \n",
       "..                        ...   \n",
       "425                    Åbyhøj   \n",
       "426                     Ålbæk   \n",
       "427                    Årslev   \n",
       "428                     Ølgod   \n",
       "429                  Ølstykke   \n",
       "\n",
       "                                               address  \n",
       "0      Reberbanen 7 st., Cimbria Parken, 6200 Aabenraa  \n",
       "1                             Nyløkke 3, 6200 Aabenraa  \n",
       "2    Farversmøllevej 2-4, Rugkobbelcentret, 6200 Aa...  \n",
       "3                    Aabybro Centret 2 C, 9440 Aabybro  \n",
       "4                         Vingårdsgade 6, 9000 Aalborg  \n",
       "..                                                 ...  \n",
       "425                      Silkeborgvej 261, 8230 Åbyhøj  \n",
       "426                      Søndre Havnevej 4, 9982 Ålbæk  \n",
       "427                          Overvejen 79, 5792 Årslev  \n",
       "428                            Østerbro 24, 6870 Ølgod  \n",
       "429                      Rådhus Allé 22, 3650 Ølstykke  \n",
       "\n",
       "[430 rows x 2 columns]"
      ]
     },
     "execution_count": 37,
     "metadata": {},
     "output_type": "execute_result"
    }
   ],
   "source": [
    "# Parse\n",
    "soup = BeautifulSoup(page.content, \"html.parser\")\n",
    "\n",
    "# Retrieve all store elements\n",
    "stores = soup.find_all(\"div\", class_=\"py-2 text-rema-evening\")\n",
    "\n",
    "# Create list for storing store data\n",
    "data_stores = []\n",
    "\n",
    "# Loop through all stores and retrieve individual store names and addresses\n",
    "for store in stores:\n",
    "    name = store.find(\"h2\", class_=\"text-xl font-bold\")\n",
    "    address = store.find(\"address\", class_=\"text-base font-medium not-italic\")\n",
    "\n",
    "    # Add dictionaries to list\n",
    "    data_stores.append({\"name\":name.text, \"address\":address.text})\n",
    "\n",
    "# Add data to dataframe\n",
    "df_stores = pd.DataFrame(data_stores)\n",
    "\n",
    "# Display dataframe\n",
    "df_stores\n"
   ]
  },
  {
   "cell_type": "markdown",
   "id": "c827b06a-dc11-4581-a179-77f071be307c",
   "metadata": {},
   "source": [
    "Thus we've scraped the name and address of all Rema1000s across Denmark"
   ]
  },
  {
   "cell_type": "code",
   "execution_count": null,
   "id": "df7ccfe5-25a5-432d-844a-0e8c19dbbd74",
   "metadata": {},
   "outputs": [],
   "source": []
  }
 ],
 "metadata": {
  "kernelspec": {
   "display_name": "Python 3 (ipykernel)",
   "language": "python",
   "name": "python3"
  },
  "language_info": {
   "codemirror_mode": {
    "name": "ipython",
    "version": 3
   },
   "file_extension": ".py",
   "mimetype": "text/x-python",
   "name": "python",
   "nbconvert_exporter": "python",
   "pygments_lexer": "ipython3",
   "version": "3.13.3"
  }
 },
 "nbformat": 4,
 "nbformat_minor": 5
}
